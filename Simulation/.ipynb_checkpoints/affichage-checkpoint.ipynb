{
 "cells": [
  {
   "cell_type": "code",
   "execution_count": 16,
   "id": "1034ae90",
   "metadata": {},
   "outputs": [
    {
     "data": {
      "image/png": "[encoded data removed]",
      "text/plain": [
       "<Figure size 576x576 with 1 Axes>"
      ]
     },
     "metadata": {
      "needs_background": "light"
     },
     "output_type": "display_data"
    }
   ],
   "source": [
    "import numpy as np\n",
    "import matplotlib.pyplot as plt\n",
    "import math\n",
    "\n",
    "fig = plt.figure(figsize=(8,8))\n",
    "data = np.loadtxt('./t0.txt')\n",
    "data10 = np.loadtxt('./t10.txt')\n",
    "data100 = np.loadtxt('./t100.txt')\n",
    "plt.scatter(data[:,0],data[:,1],color='blue',label='t = 0 ms')\n",
    "plt.scatter(data10[:,0],data10[:,1],color='red',label='t = 10 ms')\n",
    "plt.scatter(data100[:,0],data100[:,1],color='black',label='t = 100 ms')\n",
    "plt.legend()\n",
    "plt.show()"
   ]
  },
  {
   "cell_type": "code",
   "execution_count": null,
   "id": "c5b027d2",
   "metadata": {},
   "outputs": [],
   "source": []
  },
  {
   "cell_type": "code",
   "execution_count": null,
   "id": "49584502",
   "metadata": {},
   "outputs": [],
   "source": []
  }
 ],
 "metadata": {
  "kernelspec": {
   "display_name": "Python 3 (ipykernel)",
   "language": "python",
   "name": "python3"
  },
  "language_info": {
   "codemirror_mode": {
    "name": "ipython",
    "version": 3
   },
   "file_extension": ".py",
   "mimetype": "text/x-python",
   "name": "python",
   "nbconvert_exporter": "python",
   "pygments_lexer": "ipython3",
   "version": "3.10.6"
  }
 },
 "nbformat": 4,
 "nbformat_minor": 5
}
